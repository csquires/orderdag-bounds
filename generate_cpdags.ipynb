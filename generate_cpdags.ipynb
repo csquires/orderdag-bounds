{
 "cells": [
  {
   "cell_type": "code",
   "execution_count": 1,
   "metadata": {
    "collapsed": true
   },
   "outputs": [],
   "source": [
    "import causaldag as cd\n",
    "import save_utils\n",
    "import os\n",
    "from multiprocessing import cpu_count\n",
    "from multiprocessing import Pool\n",
    "from config import DATA_FOLDER\n",
    "import numpy as np\n",
    "from more_itertools import chunked\n",
    "from collections import defaultdict\n",
    "from tqdm import tqdm\n",
    "np.random.seed(1729)"
   ]
  },
  {
   "cell_type": "code",
   "execution_count": 2,
   "metadata": {
    "collapsed": true
   },
   "outputs": [],
   "source": [
    "node_sizes = list(range(110, 151, 20)) \n",
    "ndags = 2000\n",
    "sparsities = [.7]"
   ]
  },
  {
   "cell_type": "code",
   "execution_count": 3,
   "metadata": {
    "collapsed": true
   },
   "outputs": [],
   "source": [
    "def get_dags_folder(p, s):\n",
    "    return os.path.join(DATA_FOLDER, 's=%s/p=%s' % (s, p))"
   ]
  },
  {
   "cell_type": "markdown",
   "metadata": {},
   "source": [
    "### Generate and save DAGs, CPDAGs, and I-CPDAGs"
   ]
  },
  {
   "cell_type": "markdown",
   "metadata": {},
   "source": [
    "#### For each (sparsity, # nodes) configuration, calculate:\n",
    "- average number of unoriented edges\n",
    "- percentage of DAGs that are uPDAGs (i.e. identical to their CPDAG)\n",
    "- average number of unoriented edges after intervening on the optimal node"
   ]
  },
  {
   "cell_type": "code",
   "execution_count": 4,
   "metadata": {
    "collapsed": true
   },
   "outputs": [],
   "source": [
    "# === THESE HAVE TO BE DEFINED AS SEPARATE FUNCTIONS TO BE USED BY THE MULTIPROCESSING POOL\n",
    "def get_cpdag(dag):\n",
    "    return dag.cpdag()\n",
    "\n",
    "def get_mec_size(cpdag):\n",
    "    return len(cpdag.all_dags())\n",
    "\n",
    "def get_optimal_icpdag(dag, cpdag, num_interventions):\n",
    "    ivs, icpdags = dag.optimal_intervention_greedy(cpdag=cpdag, num_interventions=num_interventions)\n",
    "    return icpdags\n",
    "\n",
    "def get_icpdag(dag, cpdag, ivs):\n",
    "    return dag.interventional_cpdag(ivs, cpdag=cpdag)\n",
    "\n",
    "def get_num_ivs_to_orient(dag, cpdag):\n",
    "    ivs, icpdags = dag.fully_orienting_interventions_greedy(cpdag=cpdag)\n",
    "    return len(ivs)\n",
    "\n",
    "def save_dags(p, s, ndags):\n",
    "    \"\"\"\n",
    "    Save ndags orderDAGs with p nodes and sparsity s in the folder s=s/p=p\n",
    "    \"\"\"\n",
    "    print('=== s=%s, p=%s ===' % (s, p))\n",
    "    run_folder = get_dags_folder(p, s)\n",
    "    if not os.path.exists(run_folder):\n",
    "        os.makedirs(run_folder)\n",
    "        settings = {\n",
    "            'nnodes': p,\n",
    "            'sparsity': s,\n",
    "            'ndags': ndags\n",
    "        }\n",
    "        save_utils.save_yaml(settings, os.path.join(run_folder, 'settings.yml'))\n",
    "    \n",
    "    dags = cd.rand.directed_erdos(p, s, size=ndags)\n",
    "    for i, d in enumerate(dags):\n",
    "        dag_folder = os.path.join(run_folder, 'dag%d' % i)\n",
    "        os.makedirs(dag_folder)\n",
    "        dag_amat, node_list = d.to_amat(mode='numpy')\n",
    "        np.save(os.path.join(dag_folder, 'dag.npy'), dag_amat)\n",
    "        \n",
    "\n",
    "def save_mec_info(p, s, ndags, num_interventions_list):\n",
    "    print('=== s=%s, p=%s ===' % (s, p))\n",
    "    # === CREATE FOLDER AND SAVE SETTINGS\n",
    "    run_folder = get_dags_folder(p, s)\n",
    "\n",
    "    # === GENERATE DAGS, CPDAGS, AND ICPDAGS\n",
    "    ndags_per_batch = cpu_count() - 1\n",
    "    dag_nums_per_batch = list(chunked(range(ndags), ndags_per_batch))\n",
    "    mec_sizes_dict = defaultdict(list)\n",
    "    num_unoriented_dict = defaultdict(list)\n",
    "    num_ivs_to_orient = []\n",
    "    \n",
    "    for dag_nums in tqdm(dag_nums_per_batch):\n",
    "        dag_amats = [np.load(os.path.join(run_folder, 'dag%d' % dag_num, 'dag.npy')) for dag_num in dag_nums]\n",
    "        dags = [cd.DAG.from_amat(dag_amat) for dag_amat in dag_amats]\n",
    "        with Pool(ndags_per_batch) as pool:\n",
    "            cpdags = pool.map(get_cpdag, dags)\n",
    "            \n",
    "            mec_sizes = pool.map(get_mec_size, cpdags)\n",
    "            mec_sizes_dict[0].extend(mec_sizes)\n",
    "            num_unoriented_dict[0].extend([len(c.edges) for c in cpdags])\n",
    "\n",
    "            optimal_icpdags_per_dag = pool.starmap(get_optimal_icpdag, zip(dags, cpdags, [max(num_interventions_list)]*len(dags)))\n",
    "            for k in num_interventions_list:\n",
    "                icpdags_k = [optimal_icpdags[k-1] for optimal_icpdags in optimal_icpdags_per_dag]\n",
    "                mec_sizes_dict[k].extend(pool.map(get_mec_size, icpdags_k))\n",
    "                num_unoriented_dict[k].extend([len(c.edges) for c in icpdags_k])\n",
    "\n",
    "            num_ivs_to_orient.extend(pool.starmap(get_num_ivs_to_orient, zip(dags, cpdags)))\n",
    "\n",
    "        # === SAVE DAGS, CPDAGS, AND ICPDAGS\n",
    "        for dag_num, d, c in zip(dag_nums, dags, cpdags):\n",
    "            dag_amat, node_list = d.to_amat(mode='numpy')\n",
    "            dag_folder = os.path.join(run_folder, 'dag%d' % dag_num)\n",
    "            cpdag_amat, _ = c.to_amat(node_list, mode='numpy')\n",
    "            np.save(os.path.join(dag_folder, 'cpdag.npy'), cpdag_amat)\n",
    "\n",
    "    # === SAVE NUMBER OF UNORIENTED EDGES IN EACH CPDAG AND ICPDAG    \n",
    "    for k, num_unoriented in num_unoriented_dict.items():\n",
    "        save_utils.save_list(num_unoriented, os.path.join(run_folder, 'k=%s_num_unoriented.txt' % k))\n",
    "\n",
    "    # === SAVE SIZE OF MEC FOR EACH CPDAG AND ICPDAG\n",
    "    for k, mec_sizes in mec_sizes_dict.items():\n",
    "        save_utils.save_list(mec_sizes, os.path.join(run_folder, 'k=%s_mec_sizes.txt' % k))\n",
    "\n",
    "    # === SAVE NUMBER INTERVENTIONS NEEDED TO FULLY ORIENT\n",
    "    save_utils.save_list(num_ivs_to_orient, os.path.join(run_folder, 'num_ivs_to_orient.txt'))\n",
    "    "
   ]
  },
  {
   "cell_type": "code",
   "execution_count": 5,
   "metadata": {
    "scrolled": true
   },
   "outputs": [],
   "source": [
    "# for sparsity in sparsities:\n",
    "#     for p in node_sizes:\n",
    "#         save_dags(p, sparsity, ndags)"
   ]
  },
  {
   "cell_type": "code",
   "execution_count": null,
   "metadata": {},
   "outputs": [
    {
     "name": "stderr",
     "output_type": "stream",
     "text": [
      "\r",
      "  0%|          | 0/106 [00:00<?, ?it/s]"
     ]
    },
    {
     "name": "stdout",
     "output_type": "stream",
     "text": [
      "=== s=0.7, p=110 ===\n"
     ]
    },
    {
     "name": "stderr",
     "output_type": "stream",
     "text": [
      "100%|██████████| 106/106 [22:02<00:00, 12.48s/it]\n",
      "  0%|          | 0/106 [00:00<?, ?it/s]"
     ]
    },
    {
     "name": "stdout",
     "output_type": "stream",
     "text": [
      "=== s=0.7, p=130 ===\n"
     ]
    },
    {
     "name": "stderr",
     "output_type": "stream",
     "text": [
      " 86%|████████▌ | 91/106 [28:51<04:45, 19.03s/it]"
     ]
    }
   ],
   "source": [
    "for sparsity in sparsities:\n",
    "    for p in node_sizes:\n",
    "        save_mec_info(p, sparsity, ndags, [1, 2])"
   ]
  },
  {
   "cell_type": "code",
   "execution_count": null,
   "metadata": {
    "collapsed": true
   },
   "outputs": [],
   "source": []
  }
 ],
 "metadata": {
  "kernelspec": {
   "display_name": "orderdag-bounds",
   "language": "python",
   "name": "orderdag-bounds"
  },
  "language_info": {
   "codemirror_mode": {
    "name": "ipython",
    "version": 3
   },
   "file_extension": ".py",
   "mimetype": "text/x-python",
   "name": "python",
   "nbconvert_exporter": "python",
   "pygments_lexer": "ipython3",
   "version": "3.6.1"
  }
 },
 "nbformat": 4,
 "nbformat_minor": 2
}
