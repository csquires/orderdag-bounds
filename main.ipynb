{
 "cells": [
  {
   "cell_type": "code",
   "execution_count": 1,
   "metadata": {},
   "outputs": [
    {
     "name": "stderr",
     "output_type": "stream",
     "text": [
      "/home/csquires/orderdag-bounds/venv/lib/python3.6/importlib/_bootstrap.py:205: RuntimeWarning: numpy.dtype size changed, may indicate binary incompatibility. Expected 96, got 88\n",
      "  return f(*args, **kwds)\n"
     ]
    }
   ],
   "source": [
    "import causaldag as cd\n",
    "import save_utils\n",
    "import numpy as np\n",
    "import config\n",
    "import os\n",
    "import matplotlib.pyplot as plt\n",
    "import seaborn as sns\n",
    "from tqdm import tqdm\n",
    "import time\n",
    "\n",
    "%matplotlib inline\n",
    "np.random.seed(1729)\n",
    "sns.set()"
   ]
  },
  {
   "cell_type": "code",
   "execution_count": 2,
   "metadata": {
    "collapsed": true
   },
   "outputs": [],
   "source": [
    "def get_dags_folder(n, s):\n",
    "    return os.path.join(config.DATA_FOLDER, 's={s}/n={n}'.format(s=s, n=n))"
   ]
  },
  {
   "cell_type": "code",
   "execution_count": 22,
   "metadata": {
    "collapsed": true
   },
   "outputs": [],
   "source": [
    "node_sizes = [3, 5, 8] + list(range(10, 101, 10))\n",
    "ndags = 200\n",
    "sparsities = [.1, .2, .5]"
   ]
  },
  {
   "cell_type": "markdown",
   "metadata": {},
   "source": [
    "### Generate and save DAGs, CPDAGs, and I-CPDAGs"
   ]
  },
  {
   "cell_type": "code",
   "execution_count": null,
   "metadata": {
    "collapsed": true
   },
   "outputs": [],
   "source": [
    "def save_dags(n, s, ndags):\n",
    "    print('=== s={s}, n={n} ==='.format(s=s, n=n))\n",
    "    run_folder = get_dags_folder(n, s)\n",
    "    os.makedirs(run_folder)\n",
    "    settings = {\n",
    "        'nnodes': n,\n",
    "        'sparsity': s,\n",
    "        'ndags': ndags\n",
    "    }\n",
    "    save_utils.save_yaml(settings, os.path.join(run_folder, 'settings.yml'))\n",
    "\n",
    "    dags = cd.random.directed_erdos(n, s, size=ndags)\n",
    "    print('generated dags')\n",
    "    cpdags = [d.cpdag for d in dags]\n",
    "    print('computed cpdags')\n",
    "    best_ivs = [d.optimal_intervention(cpdag=c) for d, c in zip(dags, cpdags)]\n",
    "    icpdags = [d.interventional_cpdag([iv], cpdag=c) for d, c, iv in zip(dags, cpdags, best_ivs)]\n",
    "    print('generated best interventional cpdag')\n",
    "    num_unoriented = [len(c.edges) for c in cpdags]\n",
    "    num_unoriented_intervened = [len(ic.edges) for ic in icpdags]\n",
    "    for nu, nui in zip(num_unoriented, num_unoriented_intervened):\n",
    "        if nui > nu:\n",
    "            raise RuntimeError('you implemented something wrong dummy')        \n",
    "    save_utils.save_list(num_unoriented, os.path.join(run_folder, 'num_unoriented.txt'))\n",
    "    save_utils.save_list(num_unoriented_intervened, os.path.join(run_folder, 'num_unoriented_intervened.txt'))\n",
    "\n",
    "    for i, (d, c) in enumerate(zip(dags, cpdags)):\n",
    "        dag_folder = os.path.join(run_folder, 'dag%d' % i)\n",
    "        os.makedirs(dag_folder)\n",
    "        dag_amat, node_list = d.to_amat()\n",
    "        cpdag_amat, _ = c.to_amat(node_list)\n",
    "        np.save(os.path.join(dag_folder, 'dag.npy'), dag_amat)\n",
    "        np.save(os.path.join(dag_folder, 'cpdag.npy'), cpdag_amat)"
   ]
  },
  {
   "cell_type": "code",
   "execution_count": null,
   "metadata": {},
   "outputs": [],
   "source": [
    "for sparsity in sparsities:\n",
    "    for n in node_sizes:\n",
    "        save_dags(n, sparsity, ndags)"
   ]
  },
  {
   "cell_type": "markdown",
   "metadata": {},
   "source": [
    "#### For each (sparsity, # nodes) configuration, calculate:\n",
    "- average number of unoriented edges\n",
    "- percentage of DAGs that are uPDAGs (i.e. identical to their CPDAG)\n",
    "- average number of unoriented edges after intervening on the optimal node"
   ]
  },
  {
   "cell_type": "code",
   "execution_count": null,
   "metadata": {
    "collapsed": true
   },
   "outputs": [],
   "source": [
    "num_unoriented_mats = {s: np.zeros((len(node_sizes), ndags)) for s in sparsities}\n",
    "for s in sparsities:\n",
    "    for i, n in enumerate(node_sizes):\n",
    "        num_unoriented_mats[s][i] = save_utils.load_list(os.path.join(get_dags_folder(n, s), 'num_unoriented.txt'))\n",
    "num_unoriented_mats_intervened = {s: np.zeros((len(node_sizes), ndags)) for s in sparsities}\n",
    "for s in sparsities:\n",
    "    for i, n in enumerate(node_sizes):\n",
    "        num_unoriented_mats_intervened[s][i] = save_utils.load_list(os.path.join(get_dags_folder(n, s), 'num_unoriented_intervened.txt'))"
   ]
  },
  {
   "cell_type": "code",
   "execution_count": null,
   "metadata": {
    "collapsed": true
   },
   "outputs": [],
   "source": [
    "avg_num_unoriented = {s: np.mean(mat, axis=1) for s, mat in num_unoriented_mats.items()}\n",
    "std_num_unoriented = {s: np.mean(mat, axis=1) for s, mat in num_unoriented_mats.items()}\n",
    "percent_updag = {s: (mat==0).sum(axis=1)/ndags for s, mat in num_unoriented_mats.items()}\n",
    "\n",
    "avg_num_unoriented_intervened = {s: np.mean(mat, axis=1) for s, mat in num_unoriented_mats_intervened.items()}\n",
    "std_num_unoriented_intervened = {s: np.mean(mat, axis=1) for s, mat in num_unoriented_mats_intervened.items()}\n",
    "percent_updag_intervened = {s: (mat==0).sum(axis=1)/ndags for s, mat in num_unoriented_mats_intervened.items()}"
   ]
  },
  {
   "cell_type": "code",
   "execution_count": null,
   "metadata": {
    "collapsed": true
   },
   "outputs": [],
   "source": [
    "for s, color in zip(sparsities, sns.color_palette()):\n",
    "    plt.plot(node_sizes, avg_num_unoriented[s], label='s={s}'.format(s=s), color=color)\n",
    "#     plt.plot(node_sizes, avg_num_unoriented_intervened[s], label='s={s}'.format(s=s), linestyle='--', color=color)\n",
    "plt.xlabel('Number of nodes')\n",
    "plt.ylabel('Average number of unoriented edges')\n",
    "plt.legend();"
   ]
  },
  {
   "cell_type": "code",
   "execution_count": null,
   "metadata": {
    "collapsed": true
   },
   "outputs": [],
   "source": [
    "for s in sparsities:\n",
    "    plt.plot(node_sizes, percent_updag[s], label='s={s}'.format(s=s))\n",
    "plt.xlabel('Number of nodes')\n",
    "plt.ylabel('Percent uPDAGs')\n",
    "plt.legend();"
   ]
  },
  {
   "cell_type": "code",
   "execution_count": null,
   "metadata": {
    "collapsed": true
   },
   "outputs": [],
   "source": [
    "for s in sparsities:\n",
    "    plt.errorbar(node_sizes, avg_num_unoriented_intervened[s], label='s={s}'.format(s=s))\n",
    "plt.xlabel('Number of nodes')\n",
    "plt.ylabel('Average number of unoriented edges \\n after best intervention')\n",
    "plt.legend();"
   ]
  },
  {
   "cell_type": "markdown",
   "metadata": {},
   "source": [
    "### Compute MEC sizes"
   ]
  },
  {
   "cell_type": "code",
   "execution_count": 10,
   "metadata": {},
   "outputs": [
    {
     "name": "stderr",
     "output_type": "stream",
     "text": [
      "100%|██████████| 200/200 [00:00<00:00, 1331.90it/s]\n",
      "  0%|          | 0/200 [00:00<?, ?it/s]"
     ]
    },
    {
     "name": "stdout",
     "output_type": "stream",
     "text": [
      "====== 0.9 ======\n",
      "----- 3\n",
      "3 nodes took 0.0276639461517334 seconds\n",
      "----- 5\n"
     ]
    },
    {
     "name": "stderr",
     "output_type": "stream",
     "text": [
      "100%|██████████| 200/200 [00:00<00:00, 389.01it/s]\n",
      "  0%|          | 0/200 [00:00<?, ?it/s]"
     ]
    },
    {
     "name": "stdout",
     "output_type": "stream",
     "text": [
      "5 nodes took 0.4200267791748047 seconds\n",
      "----- 8\n"
     ]
    },
    {
     "name": "stderr",
     "output_type": "stream",
     "text": [
      "100%|██████████| 200/200 [02:08<00:00,  1.55it/s]\n",
      "  0%|          | 1/200 [00:00<00:44,  4.48it/s]"
     ]
    },
    {
     "name": "stdout",
     "output_type": "stream",
     "text": [
      "8 nodes took 128.7167570590973 seconds\n",
      "----- 10\n"
     ]
    },
    {
     "name": "stderr",
     "output_type": "stream",
     "text": [
      " 11%|█         | 22/200 [00:25<03:29,  1.18s/it]"
     ]
    },
    {
     "ename": "KeyboardInterrupt",
     "evalue": "",
     "output_type": "error",
     "traceback": [
      "\u001b[0;31m---------------------------------------------------------------------------\u001b[0m",
      "\u001b[0;31mKeyboardInterrupt\u001b[0m                         Traceback (most recent call last)",
      "\u001b[0;32m<ipython-input-10-9343a88516a0>\u001b[0m in \u001b[0;36m<module>\u001b[0;34m()\u001b[0m\n\u001b[1;32m     10\u001b[0m             \u001b[0mcpdag\u001b[0m \u001b[0;34m=\u001b[0m \u001b[0mcd\u001b[0m\u001b[0;34m.\u001b[0m\u001b[0mPDAG\u001b[0m\u001b[0;34m.\u001b[0m\u001b[0mfrom_amat\u001b[0m\u001b[0;34m(\u001b[0m\u001b[0mcpdag_amat\u001b[0m\u001b[0;34m)\u001b[0m\u001b[0;34m\u001b[0m\u001b[0m\n\u001b[1;32m     11\u001b[0m             \u001b[0mstart\u001b[0m \u001b[0;34m=\u001b[0m \u001b[0mtime\u001b[0m\u001b[0;34m.\u001b[0m\u001b[0mtime\u001b[0m\u001b[0;34m(\u001b[0m\u001b[0;34m)\u001b[0m\u001b[0;34m\u001b[0m\u001b[0m\n\u001b[0;32m---> 12\u001b[0;31m             \u001b[0mdags\u001b[0m \u001b[0;34m=\u001b[0m \u001b[0mcpdag\u001b[0m\u001b[0;34m.\u001b[0m\u001b[0mall_dags\u001b[0m\u001b[0;34m(\u001b[0m\u001b[0;34m)\u001b[0m\u001b[0;34m\u001b[0m\u001b[0m\n\u001b[0m\u001b[1;32m     13\u001b[0m             \u001b[0mcomputation_time\u001b[0m \u001b[0;34m=\u001b[0m \u001b[0mtime\u001b[0m\u001b[0;34m.\u001b[0m\u001b[0mtime\u001b[0m\u001b[0;34m(\u001b[0m\u001b[0;34m)\u001b[0m \u001b[0;34m-\u001b[0m \u001b[0mstart\u001b[0m\u001b[0;34m\u001b[0m\u001b[0m\n\u001b[1;32m     14\u001b[0m             \u001b[0mtimes\u001b[0m\u001b[0;34m[\u001b[0m\u001b[0md\u001b[0m\u001b[0;34m]\u001b[0m \u001b[0;34m=\u001b[0m \u001b[0mcomputation_time\u001b[0m\u001b[0;34m\u001b[0m\u001b[0m\n",
      "\u001b[0;32m~/orderdag-bounds/venv/lib/python3.6/site-packages/causaldag/classes/pdag.py\u001b[0m in \u001b[0;36mall_dags\u001b[0;34m(self, verbose)\u001b[0m\n\u001b[1;32m    311\u001b[0m             \u001b[0mall_arcs\u001b[0m\u001b[0;34m.\u001b[0m\u001b[0madd\u001b[0m\u001b[0;34m(\u001b[0m\u001b[0mfrozenset\u001b[0m\u001b[0;34m(\u001b[0m\u001b[0mdag\u001b[0m\u001b[0;34m.\u001b[0m\u001b[0marcs\u001b[0m\u001b[0;34m)\u001b[0m\u001b[0;34m)\u001b[0m\u001b[0;34m\u001b[0m\u001b[0m\n\u001b[1;32m    312\u001b[0m             \u001b[0;32mfor\u001b[0m \u001b[0mi\u001b[0m\u001b[0;34m,\u001b[0m \u001b[0mj\u001b[0m \u001b[0;32min\u001b[0m \u001b[0mdag\u001b[0m\u001b[0;34m.\u001b[0m\u001b[0mreversible_arcs\u001b[0m\u001b[0;34m:\u001b[0m\u001b[0;34m\u001b[0m\u001b[0m\n\u001b[0;32m--> 313\u001b[0;31m                 \u001b[0mnew_arcs\u001b[0m \u001b[0;34m=\u001b[0m \u001b[0mfrozenset\u001b[0m\u001b[0;34m(\u001b[0m\u001b[0;34m{\u001b[0m\u001b[0marc\u001b[0m \u001b[0;32mfor\u001b[0m \u001b[0marc\u001b[0m \u001b[0;32min\u001b[0m \u001b[0mdag\u001b[0m\u001b[0;34m.\u001b[0m\u001b[0marcs\u001b[0m \u001b[0;32mif\u001b[0m \u001b[0marc\u001b[0m \u001b[0;34m!=\u001b[0m \u001b[0;34m(\u001b[0m\u001b[0mi\u001b[0m\u001b[0;34m,\u001b[0m \u001b[0mj\u001b[0m\u001b[0;34m)\u001b[0m\u001b[0;34m}\u001b[0m \u001b[0;34m|\u001b[0m \u001b[0;34m{\u001b[0m\u001b[0;34m(\u001b[0m\u001b[0mj\u001b[0m\u001b[0;34m,\u001b[0m \u001b[0mi\u001b[0m\u001b[0;34m)\u001b[0m\u001b[0;34m}\u001b[0m\u001b[0;34m)\u001b[0m\u001b[0;34m\u001b[0m\u001b[0m\n\u001b[0m\u001b[1;32m    314\u001b[0m                 \u001b[0;32mif\u001b[0m \u001b[0mnew_arcs\u001b[0m \u001b[0;32mnot\u001b[0m \u001b[0;32min\u001b[0m \u001b[0mall_arcs\u001b[0m\u001b[0;34m:\u001b[0m\u001b[0;34m\u001b[0m\u001b[0m\n\u001b[1;32m    315\u001b[0m                     \u001b[0mnew_parents_dict\u001b[0m \u001b[0;34m=\u001b[0m \u001b[0;34m{\u001b[0m\u001b[0;34m}\u001b[0m\u001b[0;34m\u001b[0m\u001b[0m\n",
      "\u001b[0;32m~/orderdag-bounds/venv/lib/python3.6/site-packages/causaldag/classes/pdag.py\u001b[0m in \u001b[0;36m<setcomp>\u001b[0;34m(.0)\u001b[0m\n\u001b[1;32m    311\u001b[0m             \u001b[0mall_arcs\u001b[0m\u001b[0;34m.\u001b[0m\u001b[0madd\u001b[0m\u001b[0;34m(\u001b[0m\u001b[0mfrozenset\u001b[0m\u001b[0;34m(\u001b[0m\u001b[0mdag\u001b[0m\u001b[0;34m.\u001b[0m\u001b[0marcs\u001b[0m\u001b[0;34m)\u001b[0m\u001b[0;34m)\u001b[0m\u001b[0;34m\u001b[0m\u001b[0m\n\u001b[1;32m    312\u001b[0m             \u001b[0;32mfor\u001b[0m \u001b[0mi\u001b[0m\u001b[0;34m,\u001b[0m \u001b[0mj\u001b[0m \u001b[0;32min\u001b[0m \u001b[0mdag\u001b[0m\u001b[0;34m.\u001b[0m\u001b[0mreversible_arcs\u001b[0m\u001b[0;34m:\u001b[0m\u001b[0;34m\u001b[0m\u001b[0m\n\u001b[0;32m--> 313\u001b[0;31m                 \u001b[0mnew_arcs\u001b[0m \u001b[0;34m=\u001b[0m \u001b[0mfrozenset\u001b[0m\u001b[0;34m(\u001b[0m\u001b[0;34m{\u001b[0m\u001b[0marc\u001b[0m \u001b[0;32mfor\u001b[0m \u001b[0marc\u001b[0m \u001b[0;32min\u001b[0m \u001b[0mdag\u001b[0m\u001b[0;34m.\u001b[0m\u001b[0marcs\u001b[0m \u001b[0;32mif\u001b[0m \u001b[0marc\u001b[0m \u001b[0;34m!=\u001b[0m \u001b[0;34m(\u001b[0m\u001b[0mi\u001b[0m\u001b[0;34m,\u001b[0m \u001b[0mj\u001b[0m\u001b[0;34m)\u001b[0m\u001b[0;34m}\u001b[0m \u001b[0;34m|\u001b[0m \u001b[0;34m{\u001b[0m\u001b[0;34m(\u001b[0m\u001b[0mj\u001b[0m\u001b[0;34m,\u001b[0m \u001b[0mi\u001b[0m\u001b[0;34m)\u001b[0m\u001b[0;34m}\u001b[0m\u001b[0;34m)\u001b[0m\u001b[0;34m\u001b[0m\u001b[0m\n\u001b[0m\u001b[1;32m    314\u001b[0m                 \u001b[0;32mif\u001b[0m \u001b[0mnew_arcs\u001b[0m \u001b[0;32mnot\u001b[0m \u001b[0;32min\u001b[0m \u001b[0mall_arcs\u001b[0m\u001b[0;34m:\u001b[0m\u001b[0;34m\u001b[0m\u001b[0m\n\u001b[1;32m    315\u001b[0m                     \u001b[0mnew_parents_dict\u001b[0m \u001b[0;34m=\u001b[0m \u001b[0;34m{\u001b[0m\u001b[0;34m}\u001b[0m\u001b[0;34m\u001b[0m\u001b[0m\n",
      "\u001b[0;31mKeyboardInterrupt\u001b[0m: "
     ]
    }
   ],
   "source": [
    "for s in sparsities:\n",
    "    print('====== %s ======' % s)\n",
    "    for i, n in enumerate(node_sizes):\n",
    "        print('----- %s' % n)\n",
    "        start = time.time()\n",
    "        sizes = np.zeros(ndags)\n",
    "        times = np.zeros(ndags)\n",
    "        for d in tqdm(range(ndags)):\n",
    "            cpdag_amat = np.load(os.path.join(get_dags_folder(n, s), 'dag%d' % d, 'cpdag.npy'))\n",
    "            cpdag = cd.PDAG.from_amat(cpdag_amat)\n",
    "            start = time.time()\n",
    "            dags = cpdag.all_dags()\n",
    "            computation_time = time.time() - start\n",
    "            times[d] = computation_time\n",
    "            sizes[d] = len(dags)\n",
    "        save_utils.save_list(sizes, os.path.join(config.DATA_FOLDER, 's=%s' % s , 'n=%s' % n, 'sizes.txt'))\n",
    "        save_utils.save_list(times, os.path.join(config.DATA_FOLDER, 's=%s' % s , 'n=%s' % n, 'all_dags_times.txt'))\n",
    "        print('%s nodes took %s seconds' % (n, times.sum()))\n"
   ]
  },
  {
   "cell_type": "code",
   "execution_count": 18,
   "metadata": {},
   "outputs": [],
   "source": [
    "mec_sizes_mats = {s: np.zeros([len(node_sizes), ndags]) for s in sparsities}\n",
    "computation_times = {s: np.zeros([len(node_sizes), ndags]) for s in sparsities}\n",
    "for s in sparsities:\n",
    "    for i, n in enumerate(node_sizes):\n",
    "        try:\n",
    "            mec_sizes_mats[s][i] = save_utils.load_list(os.path.join(get_dags_folder(n, s), 'sizes.txt'))\n",
    "            computation_times[s][i] = save_utils.load_list(os.path.join(get_dags_folder(n, s), 'all_dags_times.txt'))\n",
    "        except FileNotFoundError:\n",
    "            pass"
   ]
  },
  {
   "cell_type": "code",
   "execution_count": 19,
   "metadata": {
    "collapsed": true
   },
   "outputs": [],
   "source": [
    "avg_mec_sizes = {s: sizes_mat.mean(axis=1) for s, sizes_mat in mec_sizes_mats.items()}\n",
    "avg_computation_times = {s: times.mean(axis=1) for s, times in computation_times.items()}"
   ]
  },
  {
   "cell_type": "code",
   "execution_count": 23,
   "metadata": {},
   "outputs": [
    {
     "data": {
      "image/png": "[encoded data removed]",
      "text/plain": [
       "<Figure size 432x288 with 1 Axes>"
      ]
     },
     "metadata": {},
     "output_type": "display_data"
    }
   ],
   "source": [
    "for s in sparsities:\n",
    "    plt.plot(node_sizes, avg_mec_sizes[s], label='s=%s' % s)\n",
    "plt.xlabel('Number of nodes')\n",
    "plt.ylabel('Average size of MEC')\n",
    "plt.legend();"
   ]
  },
  {
   "cell_type": "code",
   "execution_count": 24,
   "metadata": {},
   "outputs": [
    {
     "data": {
      "image/png": "[encoded data removed]",
      "text/plain": [
       "<Figure size 432x288 with 1 Axes>"
      ]
     },
     "metadata": {},
     "output_type": "display_data"
    }
   ],
   "source": [
    "for s in sparsities:\n",
    "    plt.plot(node_sizes, avg_computation_times[s], label='s=%s' % s)\n",
    "plt.xlabel('Number of nodes')\n",
    "plt.ylabel('Average time to compute MEC')\n",
    "plt.legend();"
   ]
  },
  {
   "cell_type": "code",
   "execution_count": null,
   "metadata": {
    "collapsed": true
   },
   "outputs": [],
   "source": []
  }
 ],
 "metadata": {
  "kernelspec": {
   "display_name": "orderdag-bounds",
   "language": "python",
   "name": "orderdag-bounds"
  },
  "language_info": {
   "codemirror_mode": {
    "name": "ipython",
    "version": 3
   },
   "file_extension": ".py",
   "mimetype": "text/x-python",
   "name": "python",
   "nbconvert_exporter": "python",
   "pygments_lexer": "ipython3",
   "version": "3.6.1"
  }
 },
 "nbformat": 4,
 "nbformat_minor": 1
}
