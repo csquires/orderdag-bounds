{
 "cells": [
  {
   "cell_type": "code",
   "execution_count": 1,
   "metadata": {},
   "outputs": [
    {
     "name": "stderr",
     "output_type": "stream",
     "text": [
      "/Users/chandlersquires/Documents/orderdag-bounds/venv/lib/python3.6/importlib/_bootstrap.py:219: RuntimeWarning: numpy.dtype size changed, may indicate binary incompatibility. Expected 96, got 88\n",
      "  return f(*args, **kwds)\n"
     ]
    }
   ],
   "source": [
    "import causaldag as cd\n",
    "import save_utils\n",
    "import numpy as np\n",
    "import config\n",
    "import os\n",
    "import matplotlib.pyplot as plt\n",
    "import seaborn as sns\n",
    "\n",
    "%matplotlib inline\n",
    "np.random.seed(1729)\n",
    "sns.set()"
   ]
  },
  {
   "cell_type": "code",
   "execution_count": 2,
   "metadata": {},
   "outputs": [],
   "source": [
    "def get_dags_folder(n, s):\n",
    "    return os.path.join(config.DATA_FOLDER, 's={s}/n={n}'.format(s=s, n=n))"
   ]
  },
  {
   "cell_type": "code",
   "execution_count": null,
   "metadata": {},
   "outputs": [],
   "source": [
    "def save_dags(n, s, ndags):\n",
    "    print('=== s={s}, n={n} ==='.format(s=s, n=n))\n",
    "    run_folder = get_dags_folder(n, s)\n",
    "    os.makedirs(run_folder)\n",
    "    settings = {\n",
    "        'nnodes': n,\n",
    "        'sparsity': s,\n",
    "        'ndags': ndags\n",
    "    }\n",
    "    save_utils.save_yaml(settings, os.path.join(run_folder, 'settings.yml'))\n",
    "\n",
    "    dags = cd.random.directed_erdos(n, s, size=ndags)\n",
    "    print('generated dags')\n",
    "    cpdags = [d.cpdag for d in dags]\n",
    "    print('computed cpdags')\n",
    "    best_ivs = [d.optimal_intervention(cpdag=c) for d, c in zip(dags, cpdags)]\n",
    "    icpdags = [d.interventional_cpdag([iv], cpdag=c) for d, c, iv in zip(dags, cpdags, best_ivs)]\n",
    "    print('generated best interventional cpdag')\n",
    "    num_unoriented = [len(c.edges) for c in cpdags]\n",
    "    num_unoriented_intervened = [len(ic.edges) for ic in icpdags]\n",
    "    for nu, nui in zip(num_unoriented, num_unoriented_intervened):\n",
    "        if nui > nu:\n",
    "            raise RuntimeError('you implemented something wrong dummy')        \n",
    "    save_utils.save_list(num_unoriented, os.path.join(run_folder, 'num_unoriented.txt'))\n",
    "    save_utils.save_list(num_unoriented_intervened, os.path.join(run_folder, 'num_unoriented_intervened.txt'))\n",
    "\n",
    "    for i, (d, c) in enumerate(zip(dags, cpdags)):\n",
    "        dag_folder = os.path.join(run_folder, 'dag%d' % i)\n",
    "        os.makedirs(dag_folder)\n",
    "        dag_amat, node_list = d.to_amat()\n",
    "        cpdag_amat, _ = c.to_amat(node_list)\n",
    "        np.save(os.path.join(dag_folder, 'dag.npy'), dag_amat)\n",
    "        np.save(os.path.join(dag_folder, 'cpdag.npy'), cpdag_amat)"
   ]
  },
  {
   "cell_type": "markdown",
   "metadata": {},
   "source": [
    "### Generate and save DAGs and CPDAGs"
   ]
  },
  {
   "cell_type": "code",
   "execution_count": 3,
   "metadata": {},
   "outputs": [],
   "source": [
    "node_sizes = [3, 5, 8] + list(range(10, 101, 10))\n",
    "ndags = 200\n",
    "sparsities = [.1, .2, .5]"
   ]
  },
  {
   "cell_type": "code",
   "execution_count": null,
   "metadata": {},
   "outputs": [],
   "source": [
    "for sparsity in sparsities:\n",
    "    for n in node_sizes:\n",
    "        save_dags(n, sparsity, ndags)"
   ]
  },
  {
   "cell_type": "code",
   "execution_count": null,
   "metadata": {},
   "outputs": [],
   "source": [
    "for s in sparsities:\n",
    "    for n in node_sizes:\n",
    "        for d in range(ndags):\n",
    "            dag_amat = np.load(os.path.join(get_dags_folder(n, s), 'dag%d' % d, 'dag.npy'))\n",
    "            cpdag_amat = np.load(os.path.join(get_dags_folder(n, s), 'dag%d' % d, 'dag.npy'))"
   ]
  },
  {
   "cell_type": "code",
   "execution_count": null,
   "metadata": {},
   "outputs": [],
   "source": [
    "num_unoriented_mats = {s: np.zeros((len(node_sizes), ndags)) for s in sparsities}\n",
    "for s in sparsities:\n",
    "    for i, n in enumerate(node_sizes):\n",
    "        num_unoriented_mats[s][i] = save_utils.load_list(os.path.join(get_dags_folder(n, s), 'num_unoriented.txt'))\n",
    "num_unoriented_mats_intervened = {s: np.zeros((len(node_sizes), ndags)) for s in sparsities}\n",
    "for s in sparsities:\n",
    "    for i, n in enumerate(node_sizes):\n",
    "        num_unoriented_mats_intervened[s][i] = save_utils.load_list(os.path.join(get_dags_folder(n, s), 'num_unoriented_intervened.txt'))"
   ]
  },
  {
   "cell_type": "code",
   "execution_count": null,
   "metadata": {},
   "outputs": [],
   "source": [
    "avg_num_unoriented = {s: np.mean(mat, axis=1) for s, mat in num_unoriented_mats.items()}\n",
    "std_num_unoriented = {s: np.mean(mat, axis=1) for s, mat in num_unoriented_mats.items()}\n",
    "percent_updag = {s: (mat==0).sum(axis=1)/ndags for s, mat in num_unoriented_mats.items()}\n",
    "\n",
    "avg_num_unoriented_intervened = {s: np.mean(mat, axis=1) for s, mat in num_unoriented_mats_intervened.items()}\n",
    "std_num_unoriented_intervened = {s: np.mean(mat, axis=1) for s, mat in num_unoriented_mats_intervened.items()}\n",
    "percent_updag_intervened = {s: (mat==0).sum(axis=1)/ndags for s, mat in num_unoriented_mats_intervened.items()}"
   ]
  },
  {
   "cell_type": "code",
   "execution_count": null,
   "metadata": {},
   "outputs": [],
   "source": [
    "for s, color in zip(sparsities, sns.color_palette()):\n",
    "    plt.plot(node_sizes, avg_num_unoriented[s], label='s={s}'.format(s=s), color=color)\n",
    "#     plt.plot(node_sizes, avg_num_unoriented_intervened[s], label='s={s}'.format(s=s), linestyle='--', color=color)\n",
    "plt.xlabel('Number of nodes')\n",
    "plt.ylabel('Average number of unoriented edges')\n",
    "plt.legend();"
   ]
  },
  {
   "cell_type": "code",
   "execution_count": null,
   "metadata": {},
   "outputs": [],
   "source": [
    "for s in sparsities:\n",
    "    plt.plot(node_sizes, percent_updag[s], label='s={s}'.format(s=s))\n",
    "plt.xlabel('Number of nodes')\n",
    "plt.ylabel('Percent uPDAGs')\n",
    "plt.legend();"
   ]
  },
  {
   "cell_type": "code",
   "execution_count": null,
   "metadata": {},
   "outputs": [],
   "source": [
    "for s in sparsities:\n",
    "    plt.errorbar(node_sizes, avg_num_unoriented_intervened[s], label='s={s}'.format(s=s))\n",
    "plt.xlabel('Number of nodes')\n",
    "plt.ylabel('Average number of unoriented edges \\n after best intervention')\n",
    "plt.legend();"
   ]
  },
  {
   "cell_type": "code",
   "execution_count": 4,
   "metadata": {},
   "outputs": [
    {
     "name": "stdout",
     "output_type": "stream",
     "text": [
      "== 0.1 ==\n",
      "== 0.2 ==\n",
      "== 0.5 ==\n"
     ]
    }
   ],
   "source": [
    "for s in sparsities:\n",
    "    print('== %s ==' % s)\n",
    "    for n in node_sizes:\n",
    "        for d in range(ndags):\n",
    "            cpdag_amat = np.load(os.path.join(get_dags_folder(n, s), 'dag%d' % d, 'cpdag.npy'))\n",
    "            cpdag = cd.PDAG.from_amat(cpdag_amat)\n",
    "            cpdag.all_dags"
   ]
  },
  {
   "cell_type": "code",
   "execution_count": null,
   "metadata": {},
   "outputs": [],
   "source": []
  }
 ],
 "metadata": {
  "kernelspec": {
   "display_name": "orderdag-bounds",
   "language": "python",
   "name": "orderdag-bounds"
  },
  "language_info": {
   "codemirror_mode": {
    "name": "ipython",
    "version": 3
   },
   "file_extension": ".py",
   "mimetype": "text/x-python",
   "name": "python",
   "nbconvert_exporter": "python",
   "pygments_lexer": "ipython3",
   "version": "3.6.5"
  }
 },
 "nbformat": 4,
 "nbformat_minor": 1
}
